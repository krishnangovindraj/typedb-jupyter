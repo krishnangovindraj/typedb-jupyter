{
 "cells": [
  {
   "cell_type": "code",
   "execution_count": 1,
   "id": "adcdc08e-702a-4c23-acfb-d9f8b9612915",
   "metadata": {},
   "outputs": [],
   "source": [
    "%reload_ext typedb_jupyter"
   ]
  },
  {
   "cell_type": "code",
   "execution_count": 2,
   "id": "c4b2cf02-baa2-4e71-86c3-824030318ee9",
   "metadata": {},
   "outputs": [
    {
     "name": "stdout",
     "output_type": "stream",
     "text": [
      "Available commands: connect, database, transaction, help\n",
      "TODO: Print subcommand help\n"
     ]
    }
   ],
   "source": [
    "%typedb help"
   ]
  },
  {
   "cell_type": "code",
   "execution_count": 4,
   "id": "994ca437-cbbc-4ac5-a953-a44e196a9512",
   "metadata": {},
   "outputs": [
    {
     "name": "stdout",
     "output_type": "stream",
     "text": [
      "Opened connection to: 127.0.0.1:1729\n"
     ]
    }
   ],
   "source": [
    "%typedb connect open core 127.0.0.1:1729 admin password"
   ]
  },
  {
   "cell_type": "code",
   "execution_count": 5,
   "id": "1ef0b8de-4e09-4588-bea7-f67fce0bfe95",
   "metadata": {},
   "outputs": [
    {
     "name": "stdout",
     "output_type": "stream",
     "text": [
      "Created database  test_jupyter\n"
     ]
    }
   ],
   "source": [
    "%typedb database create test_jupyter"
   ]
  },
  {
   "cell_type": "code",
   "execution_count": 6,
   "id": "2775578e-cbe6-498d-82c6-18d8d4c4f0c0",
   "metadata": {},
   "outputs": [
    {
     "name": "stdout",
     "output_type": "stream",
     "text": [
      "Databases:  moo, test_jupyter, jupyter-test, typedb-iam\n"
     ]
    }
   ],
   "source": [
    "%typedb database list"
   ]
  },
  {
   "cell_type": "code",
   "execution_count": 7,
   "id": "6415f8cf-34e7-42b8-9294-0113c584fc33",
   "metadata": {},
   "outputs": [
    {
     "name": "stdout",
     "output_type": "stream",
     "text": [
      "Deleted database  test_jupyter\n"
     ]
    }
   ],
   "source": [
    "%typedb database delete test_jupyter"
   ]
  },
  {
   "cell_type": "code",
   "execution_count": 8,
   "id": "85c80d7e-566b-4b92-9704-e27f68a58919",
   "metadata": {},
   "outputs": [
    {
     "name": "stdout",
     "output_type": "stream",
     "text": [
      "Databases:  moo, jupyter-test, typedb-iam\n"
     ]
    }
   ],
   "source": [
    "%typedb database list"
   ]
  },
  {
   "cell_type": "code",
   "execution_count": 9,
   "id": "be17ff6a-8020-43a4-9611-2f5def7bab0d",
   "metadata": {},
   "outputs": [
    {
     "name": "stdout",
     "output_type": "stream",
     "text": [
      "Recreated database  test_jupyter\n"
     ]
    }
   ],
   "source": [
    "%typedb database recreate test_jupyter"
   ]
  },
  {
   "cell_type": "code",
   "execution_count": 10,
   "id": "0cd600f3-6f6d-4b03-b3ec-fcf9b593e4b0",
   "metadata": {},
   "outputs": [
    {
     "name": "stdout",
     "output_type": "stream",
     "text": [
      "Databases:  moo, test_jupyter, jupyter-test, typedb-iam\n"
     ]
    }
   ],
   "source": [
    "%typedb database list"
   ]
  },
  {
   "cell_type": "code",
   "execution_count": 11,
   "id": "7b81db96-ae1a-43b3-a920-6e7443e34aeb",
   "metadata": {},
   "outputs": [],
   "source": [
    "# This is not implemented yet: %typedb database schema test_jupyter"
   ]
  },
  {
   "cell_type": "code",
   "execution_count": 12,
   "id": "c1260950-fae9-4ef7-9940-ff963a2ab53a",
   "metadata": {},
   "outputs": [
    {
     "name": "stdout",
     "output_type": "stream",
     "text": [
      "Recreated database  test_jupyter\n"
     ]
    }
   ],
   "source": [
    "%typedb database recreate test_jupyter"
   ]
  },
  {
   "cell_type": "code",
   "execution_count": 13,
   "id": "bfeae364-194b-4478-b02d-2b29c1ede228",
   "metadata": {},
   "outputs": [
    {
     "name": "stdout",
     "output_type": "stream",
     "text": [
      "Opened schema transaction on database 'test_jupyter'  \n"
     ]
    }
   ],
   "source": [
    "%typedb transaction open test_jupyter schema"
   ]
  },
  {
   "cell_type": "code",
   "execution_count": 14,
   "id": "d3a65846-4d15-4376-bfb1-c3c921355aab",
   "metadata": {},
   "outputs": [
    {
     "name": "stdout",
     "output_type": "stream",
     "text": [
      "Query completed successfully! (No results to show)\n"
     ]
    }
   ],
   "source": [
    "%%typeql \n",
    "define\n",
    "    attribute name, value string;\n",
    "    entity person, owns name;\n"
   ]
  },
  {
   "cell_type": "code",
   "execution_count": 15,
   "id": "76949fbe-c0fc-4973-ad3b-b0a60c3499d4",
   "metadata": {},
   "outputs": [
    {
     "name": "stdout",
     "output_type": "stream",
     "text": [
      "Transaction committed\n"
     ]
    }
   ],
   "source": [
    "%typedb transaction commit"
   ]
  },
  {
   "cell_type": "code",
   "execution_count": 16,
   "id": "381ab58e-fc12-43cb-a3dc-7a4aeba68da3",
   "metadata": {},
   "outputs": [
    {
     "name": "stdout",
     "output_type": "stream",
     "text": [
      "Opened read transaction on database 'test_jupyter'  \n"
     ]
    }
   ],
   "source": [
    "%typedb transaction open test_jupyter read "
   ]
  },
  {
   "cell_type": "code",
   "execution_count": 17,
   "id": "1552def1",
   "metadata": {},
   "outputs": [
    {
     "name": "stdout",
     "output_type": "stream",
     "text": [
      "TODO: Print rows\n"
     ]
    },
    {
     "data": {
      "text/plain": [
       "[|  $attribute_type: AttributeType(name)  |  $owner_type: EntityType(person)  |]"
      ]
     },
     "execution_count": 17,
     "metadata": {},
     "output_type": "execute_result"
    }
   ],
   "source": [
    "%%typeql \n",
    "match $owner_type owns $attribute_type;\n"
   ]
  },
  {
   "cell_type": "code",
   "execution_count": 18,
   "id": "8c9ff85b",
   "metadata": {},
   "outputs": [
    {
     "name": "stderr",
     "output_type": "stream",
     "text": [
      "UsageError: unrecognized arguments: -o typeql\n"
     ]
    }
   ],
   "source": [
    "%%typeql -o typeql \n",
    "insert $p isa person, has name \"James\";"
   ]
  },
  {
   "cell_type": "code",
   "execution_count": 7,
   "id": "e32715b5",
   "metadata": {},
   "outputs": [
    {
     "name": "stdout",
     "output_type": "stream",
     "text": [
      "Connection: test_1 (jupyter-test@127.0.0.1:1729)\n",
      "Session: data\n",
      "Transaction: read\n",
      "Query: match\n",
      "Inference: off\n"
     ]
    },
    {
     "data": {
      "text/plain": [
       "'$a_1 isa name;\\n$a_1 \"James\";\\n$p_1 isa person;\\n$p_1 has $a_1;\\n$p_2 isa person;\\n$p_2 has $a_1;\\n$p_3 isa person;\\n$p_3 has $a_1;'"
      ]
     },
     "execution_count": 7,
     "metadata": {},
     "output_type": "execute_result"
    }
   ],
   "source": [
    "%%typeql -o typeql\n",
    "match $p has $a; get;"
   ]
  },
  {
   "cell_type": "code",
   "execution_count": 4,
   "id": "b649db13",
   "metadata": {},
   "outputs": [
    {
     "name": "stdout",
     "output_type": "stream",
     "text": [
      "Connection: test_1 (jupyter-test@127.0.0.1:1729)\n",
      "Session: data\n",
      "Transaction: read\n",
      "Query: match\n",
      "Inference: off\n",
      "Returning data to local variable: 'myvar'\n"
     ]
    }
   ],
   "source": [
    "%%typeql -r myvar\n",
    "match $p has $a; get;"
   ]
  },
  {
   "cell_type": "code",
   "execution_count": 5,
   "id": "3f64a613",
   "metadata": {},
   "outputs": [
    {
     "data": {
      "text/plain": [
       "'ConceptMap { map: {\"p\": Entity(Entity { iid: ID[0x826e80018000000000000000], type_: EntityType { label: \"person\", is_root: false, is_abstract: false }, is_inferred: false }), \"a\": Attribute(Attribute { iid: ID[0x836f80012800054a616d6573], type_: AttributeType { label: \"name\", is_root: false, is_abstract: false, value_type: String }, value: String(\"James\"), is_inferred: false })}, explainables: Explainables { relations: {}, attributes: {}, ownerships: {} } }'"
      ]
     },
     "execution_count": 5,
     "metadata": {},
     "output_type": "execute_result"
    }
   ],
   "source": [
    "myvar[0]"
   ]
  },
  {
   "cell_type": "code",
   "execution_count": null,
   "id": "b61bc157",
   "metadata": {},
   "outputs": [],
   "source": []
  }
 ],
 "metadata": {
  "kernelspec": {
   "display_name": "Python 3 (ipykernel)",
   "language": "python",
   "name": "python3"
  },
  "language_info": {
   "codemirror_mode": {
    "name": "ipython",
    "version": 3
   },
   "file_extension": ".py",
   "mimetype": "text/x-python",
   "name": "python",
   "nbconvert_exporter": "python",
   "pygments_lexer": "ipython3",
   "version": "3.11.6"
  }
 },
 "nbformat": 4,
 "nbformat_minor": 5
}
