{
 "cells": [
  {
   "cell_type": "code",
   "execution_count": 1,
   "id": "adcdc08e-702a-4c23-acfb-d9f8b9612915",
   "metadata": {},
   "outputs": [],
   "source": [
    "%reload_ext typedb_jupyter"
   ]
  },
  {
   "cell_type": "code",
   "execution_count": 2,
   "id": "c4b2cf02-baa2-4e71-86c3-824030318ee9",
   "metadata": {},
   "outputs": [
    {
     "name": "stdout",
     "output_type": "stream",
     "text": [
      "Available commands: connect, database, transaction, help\n",
      "TODO: Print subcommand help\n"
     ]
    }
   ],
   "source": [
    "%typedb help"
   ]
  },
  {
   "cell_type": "code",
   "execution_count": 3,
   "id": "994ca437-cbbc-4ac5-a953-a44e196a9512",
   "metadata": {},
   "outputs": [
    {
     "name": "stdout",
     "output_type": "stream",
     "text": [
      "Opened connection to: 127.0.0.1:1729\n"
     ]
    }
   ],
   "source": [
    "%typedb connect open core 127.0.0.1:1729 admin password"
   ]
  },
  {
   "cell_type": "code",
   "execution_count": 4,
   "id": "1ef0b8de-4e09-4588-bea7-f67fce0bfe95",
   "metadata": {},
   "outputs": [
    {
     "name": "stdout",
     "output_type": "stream",
     "text": [
      "Created database  typedb_jupyter_sample\n"
     ]
    }
   ],
   "source": [
    "%typedb database create typedb_jupyter_sample"
   ]
  },
  {
   "cell_type": "code",
   "execution_count": 5,
   "id": "2775578e-cbe6-498d-82c6-18d8d4c4f0c0",
   "metadata": {},
   "outputs": [
    {
     "name": "stdout",
     "output_type": "stream",
     "text": [
      "Databases:  typedb_jupyter_sample, moo, test_jupyter, jupyter-test, typedb-iam\n"
     ]
    }
   ],
   "source": [
    "%typedb database list"
   ]
  },
  {
   "cell_type": "code",
   "execution_count": 6,
   "id": "6415f8cf-34e7-42b8-9294-0113c584fc33",
   "metadata": {},
   "outputs": [
    {
     "name": "stdout",
     "output_type": "stream",
     "text": [
      "Deleted database  typedb_jupyter_sample\n"
     ]
    }
   ],
   "source": [
    "%typedb database delete typedb_jupyter_sample"
   ]
  },
  {
   "cell_type": "code",
   "execution_count": 7,
   "id": "85c80d7e-566b-4b92-9704-e27f68a58919",
   "metadata": {},
   "outputs": [
    {
     "name": "stdout",
     "output_type": "stream",
     "text": [
      "Databases:  moo, test_jupyter, jupyter-test, typedb-iam\n"
     ]
    }
   ],
   "source": [
    "%typedb database list"
   ]
  },
  {
   "cell_type": "code",
   "execution_count": 8,
   "id": "be17ff6a-8020-43a4-9611-2f5def7bab0d",
   "metadata": {},
   "outputs": [
    {
     "name": "stdout",
     "output_type": "stream",
     "text": [
      "Recreated database  typedb_jupyter_sample\n"
     ]
    }
   ],
   "source": [
    "%typedb database recreate typedb_jupyter_sample"
   ]
  },
  {
   "cell_type": "code",
   "execution_count": 9,
   "id": "0cd600f3-6f6d-4b03-b3ec-fcf9b593e4b0",
   "metadata": {},
   "outputs": [
    {
     "name": "stdout",
     "output_type": "stream",
     "text": [
      "Databases:  typedb_jupyter_sample, moo, test_jupyter, jupyter-test, typedb-iam\n"
     ]
    }
   ],
   "source": [
    "%typedb database list"
   ]
  },
  {
   "cell_type": "code",
   "execution_count": 10,
   "id": "7b81db96-ae1a-43b3-a920-6e7443e34aeb",
   "metadata": {},
   "outputs": [],
   "source": [
    "# This is not implemented yet: %typedb database schema test_jupyter"
   ]
  },
  {
   "cell_type": "code",
   "execution_count": 11,
   "id": "c1260950-fae9-4ef7-9940-ff963a2ab53a",
   "metadata": {},
   "outputs": [
    {
     "name": "stdout",
     "output_type": "stream",
     "text": [
      "Recreated database  typedb_jupyter_sample\n"
     ]
    }
   ],
   "source": [
    "%typedb database recreate typedb_jupyter_sample"
   ]
  },
  {
   "cell_type": "code",
   "execution_count": 12,
   "id": "bfeae364-194b-4478-b02d-2b29c1ede228",
   "metadata": {},
   "outputs": [
    {
     "name": "stdout",
     "output_type": "stream",
     "text": [
      "Opened schema transaction on database 'typedb_jupyter_sample'  \n"
     ]
    }
   ],
   "source": [
    "%typedb transaction open typedb_jupyter_sample schema"
   ]
  },
  {
   "cell_type": "code",
   "execution_count": 13,
   "id": "d3a65846-4d15-4376-bfb1-c3c921355aab",
   "metadata": {},
   "outputs": [
    {
     "ename": "SyntaxError",
     "evalue": "expected '(' (display.py, line 47)",
     "output_type": "error",
     "traceback": [
      "Traceback \u001b[0;36m(most recent call last)\u001b[0m:\n",
      "\u001b[0m  File \u001b[1;32m~/code/side/typedb-jupyter/src/.venv/lib/python3.11/site-packages/IPython/core/interactiveshell.py:3577\u001b[0m in \u001b[1;35mrun_code\u001b[0m\n    exec(code_obj, self.user_global_ns, self.user_ns)\u001b[0m\n",
      "\u001b[0m  Cell \u001b[1;32mIn[13], line 1\u001b[0m\n    get_ipython().run_cell_magic('typeql', '', 'define\\n    attribute name, value string;\\n    entity person, owns name;\\n')\u001b[0m\n",
      "\u001b[0m  File \u001b[1;32m~/code/side/typedb-jupyter/src/.venv/lib/python3.11/site-packages/IPython/core/interactiveshell.py:2541\u001b[0m in \u001b[1;35mrun_cell_magic\u001b[0m\n    result = fn(*args, **kwargs)\u001b[0m\n",
      "\u001b[0m  File \u001b[1;32m~/code/side/typedb-jupyter/src/typedb_jupyter/magic.py:108\u001b[0m in \u001b[1;35mexecute\u001b[0m\n    self._print_answers(answer_type, answer)\u001b[0m\n",
      "\u001b[0;36m  File \u001b[0;32m~/code/side/typedb-jupyter/src/typedb_jupyter/magic.py:139\u001b[0;36m in \u001b[0;35m_print_answers\u001b[0;36m\n\u001b[0;31m    from typedb_jupyter.display import print_rows, print_documents\u001b[0;36m\n",
      "\u001b[0;36m  File \u001b[0;32m~/code/side/typedb-jupyter/src/typedb_jupyter/display.py:47\u001b[0;36m\u001b[0m\n\u001b[0;31m    def extract_\u001b[0m\n\u001b[0m                ^\u001b[0m\n\u001b[0;31mSyntaxError\u001b[0m\u001b[0;31m:\u001b[0m expected '('\n"
     ]
    }
   ],
   "source": [
    "%%typeql \n",
    "define\n",
    "    attribute name, value string;\n",
    "    entity person, owns name;\n"
   ]
  },
  {
   "cell_type": "code",
   "execution_count": null,
   "id": "76949fbe-c0fc-4973-ad3b-b0a60c3499d4",
   "metadata": {},
   "outputs": [],
   "source": [
    "%typedb transaction commit"
   ]
  },
  {
   "cell_type": "code",
   "execution_count": null,
   "id": "2385b0db-a4b5-4b5e-b734-64ccc473780a",
   "metadata": {},
   "outputs": [],
   "source": [
    "%typedb transaction open typedb_jupyter_sample write"
   ]
  },
  {
   "cell_type": "code",
   "execution_count": null,
   "id": "d3a6084f-0bda-4985-a6a5-be1e93d138be",
   "metadata": {},
   "outputs": [],
   "source": [
    "%%typeql\n",
    "insert \n",
    "$p isa person, has name \"James\";"
   ]
  },
  {
   "cell_type": "code",
   "execution_count": null,
   "id": "ea614f7f-c26f-4147-afb1-e1b0545744a3",
   "metadata": {},
   "outputs": [],
   "source": [
    "%typedb transaction commit"
   ]
  },
  {
   "cell_type": "code",
   "execution_count": null,
   "id": "381ab58e-fc12-43cb-a3dc-7a4aeba68da3",
   "metadata": {},
   "outputs": [],
   "source": [
    "%typedb transaction open typedb_jupyter_sample read "
   ]
  },
  {
   "cell_type": "code",
   "execution_count": null,
   "id": "dbc8419c-ca70-43d2-94d2-48553f3c3a20",
   "metadata": {},
   "outputs": [],
   "source": [
    "%%typeql \n",
    "match $owner isa! $owner_type;"
   ]
  },
  {
   "cell_type": "code",
   "execution_count": null,
   "id": "d987c302-a39c-4b79-9a0e-0259a35e09c6",
   "metadata": {},
   "outputs": [],
   "source": [
    "print(_typeql_result)"
   ]
  },
  {
   "cell_type": "code",
   "execution_count": null,
   "id": "ef9f8c8c-6a88-4530-813d-d45844ef3293",
   "metadata": {},
   "outputs": [],
   "source": [
    "%%typeql \n",
    "match $owner isa! $owner_type; entity $owner_type;\n",
    "fetch {\n",
    "    \"attributes\": { $owner.* }\n",
    "};"
   ]
  },
  {
   "cell_type": "code",
   "execution_count": null,
   "id": "9c48180e-84b5-4b0c-b2b6-3611640193d3",
   "metadata": {},
   "outputs": [],
   "source": [
    "%typedb transaction close"
   ]
  }
 ],
 "metadata": {
  "kernelspec": {
   "display_name": "Python 3 (ipykernel)",
   "language": "python",
   "name": "python3"
  },
  "language_info": {
   "codemirror_mode": {
    "name": "ipython",
    "version": 3
   },
   "file_extension": ".py",
   "mimetype": "text/x-python",
   "name": "python",
   "nbconvert_exporter": "python",
   "pygments_lexer": "ipython3",
   "version": "3.11.6"
  }
 },
 "nbformat": 4,
 "nbformat_minor": 5
}
