{
 "cells": [
  {
   "cell_type": "code",
   "execution_count": 1,
   "id": "cf791e21-3eed-4b5d-a603-d993fe5c6b79",
   "metadata": {},
   "outputs": [],
   "source": [
    "%reload_ext typedb_jupyter"
   ]
  },
  {
   "cell_type": "code",
   "execution_count": 2,
   "id": "52cc65c9-5c72-4c96-b7f9-09cdb0fedd9f",
   "metadata": {},
   "outputs": [
    {
     "name": "stdout",
     "output_type": "stream",
     "text": [
      "Opened connection to: 127.0.0.1:1729\n"
     ]
    }
   ],
   "source": [
    "%typedb connect open core 127.0.0.1:1729 admin password"
   ]
  },
  {
   "cell_type": "code",
   "execution_count": 3,
   "id": "21a1762c-2dbc-42d8-a820-e80e1bfff9e5",
   "metadata": {},
   "outputs": [
    {
     "name": "stdout",
     "output_type": "stream",
     "text": [
      "Recreated database  typedb_jupyter_graphs\n"
     ]
    }
   ],
   "source": [
    "%typedb database recreate typedb_jupyter_graphs"
   ]
  },
  {
   "cell_type": "code",
   "execution_count": 4,
   "id": "9db34e01-ffef-417d-b844-e058becd12e4",
   "metadata": {},
   "outputs": [
    {
     "name": "stdout",
     "output_type": "stream",
     "text": [
      "Opened schema transaction on database 'typedb_jupyter_graphs'  \n"
     ]
    }
   ],
   "source": [
    "%typedb transaction open typedb_jupyter_graphs schema"
   ]
  },
  {
   "cell_type": "code",
   "execution_count": 5,
   "id": "18e296bd-a459-403b-b45e-2138a2a724c9",
   "metadata": {},
   "outputs": [
    {
     "name": "stdout",
     "output_type": "stream",
     "text": [
      "Query completed successfully! (No results to show)\n"
     ]
    },
    {
     "data": {
      "text/plain": [
       "'Stored result in variable: _typeql_result'"
      ]
     },
     "execution_count": 5,
     "metadata": {},
     "output_type": "execute_result"
    }
   ],
   "source": [
    "%%typeql\n",
    "\n",
    "define \n",
    "attribute name, value string;\n",
    "entity person, owns name @card(0..);\n"
   ]
  },
  {
   "cell_type": "code",
   "execution_count": 6,
   "id": "9e62200e-9a4a-4c66-a3f1-84071c9c7317",
   "metadata": {},
   "outputs": [
    {
     "name": "stdout",
     "output_type": "stream",
     "text": [
      "Transaction committed\n"
     ]
    }
   ],
   "source": [
    "%typedb transaction commit"
   ]
  },
  {
   "cell_type": "code",
   "execution_count": 7,
   "id": "ddafea5a-6601-498c-9495-3568a0d2d85f",
   "metadata": {},
   "outputs": [
    {
     "name": "stdout",
     "output_type": "stream",
     "text": [
      "Opened write transaction on database 'typedb_jupyter_graphs'  \n"
     ]
    }
   ],
   "source": [
    "%typedb transaction open typedb_jupyter_graphs write"
   ]
  },
  {
   "cell_type": "code",
   "execution_count": 8,
   "id": "ef91ea81-f7e6-46f1-99e2-94713edde1c7",
   "metadata": {},
   "outputs": [
    {
     "name": "stdout",
     "output_type": "stream",
     "text": [
      "Query returned 1 rows.\n"
     ]
    },
    {
     "data": {
      "text/html": [
       "<table><tr><th>p</th><th>p1</th><th>p2</th></tr><tr><td>Entity(person: 0x1e00000000000000000000)</td><td>Entity(person: 0x1e00000000000000000001)</td><td>Entity(person: 0x1e00000000000000000002)</td></tr></table>"
      ],
      "text/plain": [
       "<IPython.core.display.HTML object>"
      ]
     },
     "metadata": {},
     "output_type": "display_data"
    },
    {
     "data": {
      "text/plain": [
       "'Stored result in variable: _typeql_result'"
      ]
     },
     "execution_count": 8,
     "metadata": {},
     "output_type": "execute_result"
    }
   ],
   "source": [
    "%%typeql\n",
    "\n",
    "insert \n",
    "$p isa person, has name \"John\";\n",
    "$p1 isa person, has name \"James\";\n",
    "$p2 isa person, has name \"James\", has name \"Jimmy\";"
   ]
  },
  {
   "cell_type": "code",
   "execution_count": 9,
   "id": "be72af7a-ff3f-446a-9952-e1f203fc1fc0",
   "metadata": {},
   "outputs": [
    {
     "name": "stdout",
     "output_type": "stream",
     "text": [
      "Transaction committed\n"
     ]
    }
   ],
   "source": [
    "%typedb transaction commit"
   ]
  },
  {
   "cell_type": "code",
   "execution_count": 10,
   "id": "1e03723d-b915-4438-a188-9020f9315a33",
   "metadata": {},
   "outputs": [
    {
     "name": "stdout",
     "output_type": "stream",
     "text": [
      "Opened read transaction on database 'typedb_jupyter_graphs'  \n"
     ]
    }
   ],
   "source": [
    "%typedb transaction open typedb_jupyter_graphs read"
   ]
  },
  {
   "cell_type": "code",
   "execution_count": 11,
   "id": "0a51a712-56b2-40e6-9ec5-506641d4c1f2",
   "metadata": {},
   "outputs": [
    {
     "name": "stdout",
     "output_type": "stream",
     "text": [
      "Query returned 4 rows.\n"
     ]
    },
    {
     "data": {
      "text/html": [
       "<table><tr><th>n</th><th>p</th></tr><tr><td>Attribute(name: \"John\")</td><td>Entity(person: 0x1e00000000000000000000)</td></tr><tr><td>Attribute(name: \"James\")</td><td>Entity(person: 0x1e00000000000000000001)</td></tr><tr><td>Attribute(name: \"James\")</td><td>Entity(person: 0x1e00000000000000000002)</td></tr><tr><td>Attribute(name: \"Jimmy\")</td><td>Entity(person: 0x1e00000000000000000002)</td></tr></table>"
      ],
      "text/plain": [
       "<IPython.core.display.HTML object>"
      ]
     },
     "metadata": {},
     "output_type": "display_data"
    },
    {
     "data": {
      "text/plain": [
       "'Stored result in variable: _typeql_result'"
      ]
     },
     "execution_count": 11,
     "metadata": {},
     "output_type": "execute_result"
    }
   ],
   "source": [
    "%%typeql\n",
    "match $p isa person, has name $n;"
   ]
  },
  {
   "cell_type": "code",
   "execution_count": 12,
   "id": "fa1e3c89-3901-4390-babc-2ec3ba3c0fe4",
   "metadata": {},
   "outputs": [
    {
     "name": "stdout",
     "output_type": "stream",
     "text": [
      "Transaction closed\n"
     ]
    }
   ],
   "source": [
    "%typedb transaction close"
   ]
  },
  {
   "cell_type": "code",
   "execution_count": 13,
   "id": "12695159-169f-440f-bf85-4396cf0bf825",
   "metadata": {},
   "outputs": [
    {
     "name": "stdout",
     "output_type": "stream",
     "text": [
      "Match(IsaType(p, person), Has(p, n), IsaType(n, name))\n"
     ]
    }
   ],
   "source": [
    "from typedb_jupyter.utils.parser import TypeQLVisitor\n",
    "\n",
    "parsed = TypeQLVisitor.parse_and_visit(\"match $p isa person, has name $n;\")\n",
    "print(str(parsed))"
   ]
  },
  {
   "cell_type": "code",
   "execution_count": 14,
   "id": "51cb2feb-1fa8-4b3c-9d27-94c65706dc2f",
   "metadata": {},
   "outputs": [],
   "source": [
    "from typedb_jupyter.graph.query import QueryGraph\n",
    "from typedb_jupyter.graph.answer import AnswerGraphBuilder\n",
    "\n",
    "query_graph = QueryGraph(parsed)\n",
    "answer_graph = AnswerGraphBuilder.build(query_graph, _typeql_result)"
   ]
  },
  {
   "cell_type": "code",
   "execution_count": 15,
   "id": "7965c6b7-84b3-4637-ad2b-2e818761dcb2",
   "metadata": {},
   "outputs": [
    {
     "name": "stdout",
     "output_type": "stream",
     "text": [
      "Entity(person: 0x1e00000000000000000000)--[has]-->True\n",
      "Entity(person: 0x1e00000000000000000001)--[has]-->True\n",
      "Entity(person: 0x1e00000000000000000002)--[has]-->True\n",
      "Entity(person: 0x1e00000000000000000002)--[has]-->True\n"
     ]
    }
   ],
   "source": [
    "print(\"\\n\".join(map(str,answer_graph.edges)))"
   ]
  },
  {
   "cell_type": "code",
   "execution_count": 16,
   "id": "5b6da7a4-66f5-4233-9d5e-8855789a08e7",
   "metadata": {},
   "outputs": [
    {
     "name": "stderr",
     "output_type": "stream",
     "text": [
      "/Users/krishnangovindraj/code/side/typedb-jupyter/src/.venv/lib/python3.11/site-packages/netgraph/_parser.py:23: UserWarning: Multi-graphs are not properly supported. Duplicate edges are plotted as a single edge; edge weights (if any) are summed.\n",
      "  warnings.warn(msg)\n"
     ]
    },
    {
     "data": {
      "image/png": "[encoded data removed]",
      "text/plain": [
       "<Figure size 640x480 with 1 Axes>"
      ]
     },
     "metadata": {},
     "output_type": "display_data"
    }
   ],
   "source": [
    "answer_graph.draw()"
   ]
  },
  {
   "cell_type": "code",
   "execution_count": null,
   "id": "88b1e385-ab1c-464c-956d-b0a131789dc7",
   "metadata": {},
   "outputs": [],
   "source": []
  }
 ],
 "metadata": {
  "kernelspec": {
   "display_name": "Python 3 (ipykernel)",
   "language": "python",
   "name": "python3"
  },
  "language_info": {
   "codemirror_mode": {
    "name": "ipython",
    "version": 3
   },
   "file_extension": ".py",
   "mimetype": "text/x-python",
   "name": "python",
   "nbconvert_exporter": "python",
   "pygments_lexer": "ipython3",
   "version": "3.11.6"
  }
 },
 "nbformat": 4,
 "nbformat_minor": 5
}
